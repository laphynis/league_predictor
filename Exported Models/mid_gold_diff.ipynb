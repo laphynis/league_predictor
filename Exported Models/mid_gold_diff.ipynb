{
 "cells": [
  {
   "cell_type": "code",
   "execution_count": 1,
   "metadata": {},
   "outputs": [],
   "source": [
    "import pandas as pd\n",
    "import numpy\n",
    "from sklearn.ensemble import RandomForestRegressor\n",
    "from sklearn.tree import DecisionTreeRegressor\n",
    "from sklearn.model_selection import train_test_split\n",
    "from sklearn.metrics import r2_score, mean_squared_error\n",
    "from sklearn.model_selection import GridSearchCV\n",
    "from sklearn.model_selection import cross_val_score\n",
    "\n",
    "pd.set_option('chained_assignment',None)"
   ]
  },
  {
   "cell_type": "code",
   "execution_count": 2,
   "metadata": {},
   "outputs": [],
   "source": [
    "file = pd.read_csv('data.csv')"
   ]
  },
  {
   "cell_type": "code",
   "execution_count": 3,
   "metadata": {},
   "outputs": [],
   "source": [
    "sub_df = file[['Mid1', 'Mid1Summ1', 'Mid1Summ2', 'Mid1Keystone', 'Mid1Xp', 'Mid1Gold',\n",
    "                     'Mid2', 'Mid2Summ1', 'Mid2Summ2', 'Mid2Keystone', 'Mid2Xp', 'Mid2Gold']]\n",
    "\n",
    "sub_df['MidGoldDiff'] = (sub_df['Mid1Gold'] * 10) - (sub_df['Mid2Gold'] * 10)\n",
    "\n",
    "x = sub_df[['Mid1', 'Mid1Summ1', 'Mid1Summ2', 'Mid1Keystone',\n",
    "            'Mid2', 'Mid2Summ1', 'Mid2Summ2', 'Mid2Keystone']]\n",
    "\n",
    "g_diff = sub_df['MidGoldDiff']"
   ]
  },
  {
   "cell_type": "code",
   "execution_count": 4,
   "metadata": {},
   "outputs": [
    {
     "name": "stdout",
     "output_type": "stream",
     "text": [
      "Random Forest MSE : 935.6368398565493\n",
      "Decision Tree MSE : 1222.4179812850266\n"
     ]
    }
   ],
   "source": [
    "x_train, x_test, y_train, y_test = train_test_split(x, g_diff, test_size=0.3, random_state=0)\n",
    "\n",
    "testing_forest = RandomForestRegressor(random_state=0)\n",
    "testing_forest.fit(x_train, y_train)\n",
    "\n",
    "testing_tree = DecisionTreeRegressor(random_state=0)\n",
    "testing_tree.fit(x_train, y_train)\n",
    "\n",
    "y_forest = testing_forest.predict(x_test)\n",
    "y_tree = testing_tree.predict(x_test)\n",
    "forest_mse = mean_squared_error(y_test, y_forest)\n",
    "print('Random Forest MSE : {}'.format(numpy.sqrt(forest_mse)))\n",
    "\n",
    "tree_mse = mean_squared_error(y_test, y_tree)\n",
    "print('Decision Tree MSE : {}'.format(numpy.sqrt(tree_mse)))"
   ]
  },
  {
   "cell_type": "code",
   "execution_count": 12,
   "metadata": {},
   "outputs": [
    {
     "name": "stdout",
     "output_type": "stream",
     "text": [
      "Fitting 5 folds for each of 4 candidates, totalling 20 fits\n"
     ]
    },
    {
     "name": "stderr",
     "output_type": "stream",
     "text": [
      "[Parallel(n_jobs=6)]: Using backend LokyBackend with 6 concurrent workers.\n",
      "[Parallel(n_jobs=6)]: Done  20 out of  20 | elapsed:    4.7s finished\n"
     ]
    },
    {
     "data": {
      "text/plain": [
       "{'criterion': 'mse',\n",
       " 'max_depth': 11,\n",
       " 'max_features': 'sqrt',\n",
       " 'max_leaf_nodes': 115,\n",
       " 'n_estimators': 605}"
      ]
     },
     "execution_count": 12,
     "metadata": {},
     "output_type": "execute_result"
    }
   ],
   "source": [
    "forest = RandomForestRegressor(random_state=0)\n",
    "\n",
    "param_grid = {\n",
    "    'n_estimators' : [605],\n",
    "    'max_depth' : [11],\n",
    "    'max_features': ['sqrt'],\n",
    "    'max_leaf_nodes': [115],\n",
    "    'criterion' : ['mse']\n",
    "}\n",
    "\n",
    "cv_grid = GridSearchCV(estimator=forest, param_grid=param_grid, cv=5, verbose=1, n_jobs=6)\n",
    "cv_grid.fit(x_train, y_train)\n",
    "cv_grid.best_params_"
   ]
  },
  {
   "cell_type": "code",
   "execution_count": 13,
   "metadata": {},
   "outputs": [
    {
     "name": "stdout",
     "output_type": "stream",
     "text": [
      "865.7212514761386\n"
     ]
    },
    {
     "data": {
      "text/plain": [
       "869.9050576167394"
      ]
     },
     "execution_count": 13,
     "metadata": {},
     "output_type": "execute_result"
    }
   ],
   "source": [
    "model2 = RandomForestRegressor(n_estimators=cv_grid.best_params_['n_estimators'], max_depth=cv_grid.best_params_['max_depth'], max_leaf_nodes=cv_grid.best_params_['max_leaf_nodes'],\n",
    "                               max_features=cv_grid.best_params_['max_features'], random_state=0)\n",
    "model2.fit(x_train, y_train)\n",
    "\n",
    "y2 = model2.predict(x_test)\n",
    "\n",
    "mse2 = mean_squared_error(y_test, y2)\n",
    "rmse = numpy.sqrt(mse2)\n",
    "print(rmse)\n",
    "\n",
    "scores = -1 * cross_val_score(model2, x, g_diff,\n",
    "                        cv=5 , scoring=\"neg_mean_squared_error\")\n",
    "scores\n",
    "numpy.sqrt(sum (scores) / len(scores))"
   ]
  },
  {
   "cell_type": "code",
   "execution_count": null,
   "metadata": {},
   "outputs": [],
   "source": []
  }
 ],
 "metadata": {
  "kernelspec": {
   "display_name": "Python 3",
   "language": "python",
   "name": "python3"
  },
  "language_info": {
   "codemirror_mode": {
    "name": "ipython",
    "version": 3
   },
   "file_extension": ".py",
   "mimetype": "text/x-python",
   "name": "python",
   "nbconvert_exporter": "python",
   "pygments_lexer": "ipython3",
   "version": "3.8.7"
  }
 },
 "nbformat": 4,
 "nbformat_minor": 4
}
